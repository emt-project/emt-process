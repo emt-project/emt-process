{
 "cells": [
  {
   "cell_type": "code",
   "execution_count": 1,
   "metadata": {},
   "outputs": [],
   "source": [
    "import requests\n",
    "from lxml import etree\n",
    "import os"
   ]
  },
  {
   "cell_type": "code",
   "execution_count": 9,
   "metadata": {},
   "outputs": [],
   "source": [
    "with open('emt-data/import_transkribus_letters.csv', \"r\") as inp:\n",
    "    letters = inp.readlines()"
   ]
  },
  {
   "cell_type": "code",
   "execution_count": 10,
   "metadata": {},
   "outputs": [],
   "source": [
    "letters = [x.strip() for x in letters]"
   ]
  },
  {
   "cell_type": "code",
   "execution_count": 11,
   "metadata": {},
   "outputs": [],
   "source": [
    "letters_import = []\n",
    "for x in letters:\n",
    "    if x not in letters_import:\n",
    "        letters_import.append(x)"
   ]
  },
  {
   "cell_type": "code",
   "execution_count": 2,
   "metadata": {},
   "outputs": [],
   "source": [
    "transkribus_base_url = \"https://transkribus.eu/TrpServer/rest/\""
   ]
  },
  {
   "cell_type": "code",
   "execution_count": 3,
   "metadata": {},
   "outputs": [],
   "source": [
    "def login_transkribus(user, password):\n",
    "    res = requests.post(f\"{transkribus_base_url}auth/login\", data={\"user\": user, \"pw\": password})\n",
    "    if res.status_code == 200:\n",
    "        tree = etree.fromstring(res.content)\n",
    "        sessionid = tree.xpath('/trpUserLogin/sessionId/text()')\n",
    "        cookies = dict(JSESSIONID=sessionid[0])\n",
    "        return cookies\n",
    "    else:\n",
    "        return False\n"
   ]
  },
  {
   "cell_type": "code",
   "execution_count": 22,
   "metadata": {},
   "outputs": [],
   "source": [
    "def search_for_document(title, collectionid, cookies):\n",
    "    res = requests.get(f\"{transkribus_base_url}collections/findDocuments\", cookies=cookies, params={\"collId\": collectionid, \"title\": title, })\n",
    "    return res.json()"
   ]
  },
  {
   "cell_type": "code",
   "execution_count": 25,
   "metadata": {},
   "outputs": [],
   "source": [
    "def search_for_collection(title, cookies):\n",
    "    res = requests.get(f\"{transkribus_base_url}collections/listByName\", cookies=cookies, params={\"name\": title}, headers={\"Accept\": \"application/json\"})\n",
    "    return res.json()"
   ]
  },
  {
   "cell_type": "code",
   "execution_count": 23,
   "metadata": {},
   "outputs": [],
   "source": [
    "def create_transkribus_collection(name, cookies):\n",
    "    res = requests.post(f\"{transkribus_base_url}collections/createCollection\", cookies=cookies, params={'collName': name})\n",
    "    if res.status_code == 200:\n",
    "        return res.content\n",
    "    else:\n",
    "        print(\"error: \", res.status_code, res.content)\n",
    "        return False"
   ]
  },
  {
   "cell_type": "code",
   "execution_count": 24,
   "metadata": {},
   "outputs": [],
   "source": [
    "def transkribus_upload_mets_file(mets_url, collectionid, cookies):\n",
    "    res = requests.post(f\"{transkribus_base_url}collections/{collectionid}/createDocFromMetsUrl\", cookies=cookies, params={'fileName': mets_url})\n",
    "    if res.status_code == 200:\n",
    "        return True\n",
    "    else:\n",
    "        print(\"Error: \", res.status_code, res.content)\n",
    "        return False\n"
   ]
  },
  {
   "cell_type": "code",
   "execution_count": 16,
   "metadata": {},
   "outputs": [],
   "source": [
    "import_fin = dict()\n",
    "for let in letters_import:\n",
    "    kst = \"\".join(let.split(\"_\")[:-1])\n",
    "    if kst not in import_fin.keys():\n",
    "        import_fin[kst] = [let]\n",
    "    else:\n",
    "        import_fin[kst].append(let)"
   ]
  },
  {
   "cell_type": "code",
   "execution_count": 28,
   "metadata": {},
   "outputs": [
    {
     "data": {
      "text/plain": [
       "{'Kastenblau442b': ['Kasten_blau_44_2b_0002',\n",
       "  'Kasten_blau_44_2b_0005',\n",
       "  'Kasten_blau_44_2b_0009',\n",
       "  'Kasten_blau_44_2b_0011',\n",
       "  'Kasten_blau_44_2b_0012'],\n",
       " 'Kastenblau442d': ['Kasten_blau_44_2d_0002',\n",
       "  'Kasten_blau_44_2d_0004',\n",
       "  'Kasten_blau_44_2d_0007',\n",
       "  'Kasten_blau_44_2d_0009',\n",
       "  'Kasten_blau_44_2d_0011',\n",
       "  'Kasten_blau_44_2d_0012',\n",
       "  'Kasten_blau_44_2d_0013',\n",
       "  'Kasten_blau_44_2d_0015',\n",
       "  'Kasten_blau_44_2d_0017',\n",
       "  'Kasten_blau_44_2d_0020',\n",
       "  'Kasten_blau_44_2d_0022',\n",
       "  'Kasten_blau_44_2d_0025',\n",
       "  'Kasten_blau_44_2d_0026',\n",
       "  'Kasten_blau_44_2d_0027',\n",
       "  'Kasten_blau_44_2d_0029',\n",
       "  'Kasten_blau_44_2d_0031',\n",
       "  'Kasten_blau_44_2d_0034',\n",
       "  'Kasten_blau_44_2d_0038',\n",
       "  'Kasten_blau_44_2d_0039',\n",
       "  'Kasten_blau_44_2d_0041',\n",
       "  'Kasten_blau_44_2d_0042',\n",
       "  'Kasten_blau_44_2d_0043',\n",
       "  'Kasten_blau_44_2d_0045',\n",
       "  'Kasten_blau_44_2d_0047'],\n",
       " 'Kastenblau443d': ['Kasten_blau_44_3d_0002',\n",
       "  'Kasten_blau_44_3d_0012',\n",
       "  'Kasten_blau_44_3d_0015',\n",
       "  'Kasten_blau_44_3d_0019'],\n",
       " 'Kastenblau443f': ['Kasten_blau_44_3f_0004',\n",
       "  'Kasten_blau_44_3f_0006',\n",
       "  'Kasten_blau_44_3f_0008',\n",
       "  'Kasten_blau_44_3f_0010',\n",
       "  'Kasten_blau_44_3f_0011',\n",
       "  'Kasten_blau_44_3f_0012',\n",
       "  'Kasten_blau_44_3f_0014',\n",
       "  'Kasten_blau_44_3f_0015',\n",
       "  'Kasten_blau_44_3f_0017',\n",
       "  'Kasten_blau_44_3f_0019',\n",
       "  'Kasten_blau_44_3f_0023',\n",
       "  'Kasten_blau_44_3f_0025',\n",
       "  'Kasten_blau_44_3f_0029',\n",
       "  'Kasten_blau_44_3f_0032',\n",
       "  'Kasten_blau_44_3f_0033',\n",
       "  'Kasten_blau_44_3f_0037',\n",
       "  'Kasten_blau_44_3f_0040',\n",
       "  'Kasten_blau_44_3f_0042',\n",
       "  'Kasten_blau_44_3f_0045',\n",
       "  'Kasten_blau_44_3f_0046',\n",
       "  'Kasten_blau_44_3f_0048',\n",
       "  'Kasten_blau_44_3f_0050',\n",
       "  'Kasten_blau_44_3f_0051',\n",
       "  'Kasten_blau_44_3f_0053',\n",
       "  'Kasten_blau_44_3f_0055',\n",
       "  'Kasten_blau_44_3f_0058',\n",
       "  'Kasten_blau_44_3f_0060',\n",
       "  'Kasten_blau_44_3f_0065']}"
      ]
     },
     "execution_count": 28,
     "metadata": {},
     "output_type": "execute_result"
    }
   ],
   "source": [
    "import_fin"
   ]
  },
  {
   "cell_type": "code",
   "execution_count": 8,
   "metadata": {},
   "outputs": [],
   "source": [
    "cookie = login_transkribus(os.environ.get('TRANSKRIBUS_USER'), os.environ.get('TRANSKRIBUS_PASSWORD'))"
   ]
  },
  {
   "cell_type": "code",
   "execution_count": 27,
   "metadata": {},
   "outputs": [
    {
     "name": "stdout",
     "output_type": "stream",
     "text": [
      "col\n",
      "col\n",
      "col\n",
      "Error:  400 b'https://goobi.acdh.oeaw.ac.at/viewer/metsresolver?id=Kasten_blau_44_3d_0019'\n",
      "col\n",
      "Error:  400 b'https://goobi.acdh.oeaw.ac.at/viewer/metsresolver?id=Kasten_blau_44_3f_0032'\n",
      "Error:  400 b'https://goobi.acdh.oeaw.ac.at/viewer/metsresolver?id=Kasten_blau_44_3f_0033'\n",
      "Error:  400 b'https://goobi.acdh.oeaw.ac.at/viewer/metsresolver?id=Kasten_blau_44_3f_0037'\n",
      "Error:  400 b'https://goobi.acdh.oeaw.ac.at/viewer/metsresolver?id=Kasten_blau_44_3f_0040'\n",
      "Error:  400 b'https://goobi.acdh.oeaw.ac.at/viewer/metsresolver?id=Kasten_blau_44_3f_0042'\n",
      "Error:  400 b'https://goobi.acdh.oeaw.ac.at/viewer/metsresolver?id=Kasten_blau_44_3f_0045'\n",
      "Error:  400 b'https://goobi.acdh.oeaw.ac.at/viewer/metsresolver?id=Kasten_blau_44_3f_0046'\n",
      "Error:  400 b'https://goobi.acdh.oeaw.ac.at/viewer/metsresolver?id=Kasten_blau_44_3f_0048'\n",
      "Error:  400 b'https://goobi.acdh.oeaw.ac.at/viewer/metsresolver?id=Kasten_blau_44_3f_0050'\n",
      "Error:  400 b'https://goobi.acdh.oeaw.ac.at/viewer/metsresolver?id=Kasten_blau_44_3f_0051'\n",
      "Error:  400 b'https://goobi.acdh.oeaw.ac.at/viewer/metsresolver?id=Kasten_blau_44_3f_0053'\n",
      "Error:  400 b'https://goobi.acdh.oeaw.ac.at/viewer/metsresolver?id=Kasten_blau_44_3f_0055'\n",
      "Error:  400 b'https://goobi.acdh.oeaw.ac.at/viewer/metsresolver?id=Kasten_blau_44_3f_0058'\n",
      "Error:  400 b'https://goobi.acdh.oeaw.ac.at/viewer/metsresolver?id=Kasten_blau_44_3f_0060'\n",
      "Error:  400 b'https://goobi.acdh.oeaw.ac.at/viewer/metsresolver?id=Kasten_blau_44_3f_0065'\n"
     ]
    }
   ],
   "source": [
    "for kasten in import_fin.keys():\n",
    "    search_col = search_for_collection(kasten, cookie)\n",
    "    if len(search_col) > 0:\n",
    "        col = search_col[0][\"collId\"]\n",
    "    else:\n",
    "        col = create_transkribus_collection(kasten, cookie)\n",
    "        col = col.decode(\"utf8\")\n",
    "        if not col:\n",
    "            break\n",
    "    print(\"col\")\n",
    "    for let in import_fin[kasten]:\n",
    "        search = search_for_document(let, col.decode{\"utf8\"}, cookie)\n",
    "        if len(search) == 0:\n",
    "            let2 = transkribus_upload_mets_file(f\"https://goobi.acdh.oeaw.ac.at/viewer/metsresolver?id={let}\", col, cookie)"
   ]
  },
  {
   "cell_type": "code",
   "execution_count": null,
   "metadata": {},
   "outputs": [],
   "source": []
  }
 ],
 "metadata": {
  "interpreter": {
   "hash": "4cd7ab41f5fca4b9b44701077e38c5ffd31fe66a6cab21e0214b68d958d0e462"
  },
  "kernelspec": {
   "display_name": "Python 3.9.5 64-bit",
   "name": "python3"
  },
  "language_info": {
   "codemirror_mode": {
    "name": "ipython",
    "version": 3
   },
   "file_extension": ".py",
   "mimetype": "text/x-python",
   "name": "python",
   "nbconvert_exporter": "python",
   "pygments_lexer": "ipython3",
   "version": "3.9.5"
  },
  "orig_nbformat": 4
 },
 "nbformat": 4,
 "nbformat_minor": 2
}
